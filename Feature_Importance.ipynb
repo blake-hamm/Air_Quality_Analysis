{
 "cells": [
  {
   "cell_type": "markdown",
   "id": "91509653",
   "metadata": {},
   "source": [
    "### This script aims to explore the full dataset build in \"EDA\" and find feature importance"
   ]
  },
  {
   "cell_type": "code",
   "execution_count": 65,
   "id": "73d251ea",
   "metadata": {},
   "outputs": [],
   "source": [
    "## Packages and data\n",
    "# Load packages\n",
    "import pandas as pd\n",
    "import numpy as np\n",
    "from sklearn import linear_model\n",
    "from sklearn.ensemble import RandomForestRegressor\n",
    "import statsmodels.formula.api as sm1\n",
    "import statsmodels.discrete.discrete_model as sm2\n",
    "import pymc3 as pm\n",
    "from sklearn.preprocessing import StandardScaler\n",
    "from sklearn.decomposition import PCA\n",
    "from sklearn.pipeline import make_pipeline\n",
    "\n",
    "\n",
    "# Load data\n",
    "df = pd.read_pickle('clean_data/df.pkl')"
   ]
  },
  {
   "cell_type": "code",
   "execution_count": 66,
   "id": "6f76e08e",
   "metadata": {},
   "outputs": [
    {
     "name": "stdout",
     "output_type": "stream",
     "text": [
      "Index(['AQI', 'HEALTHY', 'WND', 'PRCP', 'TMP', 'TRAF', 'MANU', 'MONTH',\n",
      "       'MONTH1', 'MONTH2', 'MONTH3', 'MONTH4', 'MONTH5', 'MONTH6', 'MONTH7',\n",
      "       'MONTH8', 'MONTH9', 'MONTH10', 'MONTH11'],\n",
      "      dtype='object')\n",
      "(2832, 19)\n"
     ]
    }
   ],
   "source": [
    "# Prepare data for modeling\n",
    "X = df.iloc[:,2:].drop(\"MONTH\",1)\n",
    "y1 = df['AQI']\n",
    "y2 = df['HEALTHY']\n",
    "\n",
    "f = (\"AQI ~ WND + PRCP + TMP + TRAF + MANU + MONTH\") # Define formula\n",
    "\n",
    "print(df.columns)\n",
    "print(df.shape)"
   ]
  },
  {
   "cell_type": "code",
   "execution_count": 67,
   "id": "5533293d",
   "metadata": {},
   "outputs": [
    {
     "data": {
      "text/html": [
       "<table class=\"simpletable\">\n",
       "<caption>OLS Regression Results</caption>\n",
       "<tr>\n",
       "  <th>Dep. Variable:</th>           <td>AQI</td>       <th>  R-squared:         </th> <td>   0.165</td> \n",
       "</tr>\n",
       "<tr>\n",
       "  <th>Model:</th>                   <td>OLS</td>       <th>  Adj. R-squared:    </th> <td>   0.164</td> \n",
       "</tr>\n",
       "<tr>\n",
       "  <th>Method:</th>             <td>Least Squares</td>  <th>  F-statistic:       </th> <td>   93.28</td> \n",
       "</tr>\n",
       "<tr>\n",
       "  <th>Date:</th>             <td>Tue, 27 Jul 2021</td> <th>  Prob (F-statistic):</th> <td>3.62e-107</td>\n",
       "</tr>\n",
       "<tr>\n",
       "  <th>Time:</th>                 <td>07:15:12</td>     <th>  Log-Likelihood:    </th> <td> -12422.</td> \n",
       "</tr>\n",
       "<tr>\n",
       "  <th>No. Observations:</th>      <td>  2832</td>      <th>  AIC:               </th> <td>2.486e+04</td>\n",
       "</tr>\n",
       "<tr>\n",
       "  <th>Df Residuals:</th>          <td>  2825</td>      <th>  BIC:               </th> <td>2.490e+04</td>\n",
       "</tr>\n",
       "<tr>\n",
       "  <th>Df Model:</th>              <td>     6</td>      <th>                     </th>     <td> </td>    \n",
       "</tr>\n",
       "<tr>\n",
       "  <th>Covariance Type:</th>      <td>nonrobust</td>    <th>                     </th>     <td> </td>    \n",
       "</tr>\n",
       "</table>\n",
       "<table class=\"simpletable\">\n",
       "<tr>\n",
       "      <td></td>         <th>coef</th>     <th>std err</th>      <th>t</th>      <th>P>|t|</th>  <th>[0.025</th>    <th>0.975]</th>  \n",
       "</tr>\n",
       "<tr>\n",
       "  <th>Intercept</th> <td>   51.7387</td> <td>    2.814</td> <td>   18.389</td> <td> 0.000</td> <td>   46.222</td> <td>   57.256</td>\n",
       "</tr>\n",
       "<tr>\n",
       "  <th>WND</th>       <td>   -0.4808</td> <td>    0.027</td> <td>  -17.974</td> <td> 0.000</td> <td>   -0.533</td> <td>   -0.428</td>\n",
       "</tr>\n",
       "<tr>\n",
       "  <th>PRCP</th>      <td>   -0.0744</td> <td>    0.012</td> <td>   -6.223</td> <td> 0.000</td> <td>   -0.098</td> <td>   -0.051</td>\n",
       "</tr>\n",
       "<tr>\n",
       "  <th>TMP</th>       <td>   -0.0123</td> <td>    0.004</td> <td>   -3.198</td> <td> 0.001</td> <td>   -0.020</td> <td>   -0.005</td>\n",
       "</tr>\n",
       "<tr>\n",
       "  <th>TRAF</th>      <td>    0.0001</td> <td>    0.000</td> <td>    0.334</td> <td> 0.738</td> <td>   -0.000</td> <td>    0.001</td>\n",
       "</tr>\n",
       "<tr>\n",
       "  <th>MANU</th>      <td>   -0.0059</td> <td>    0.001</td> <td>   -4.221</td> <td> 0.000</td> <td>   -0.009</td> <td>   -0.003</td>\n",
       "</tr>\n",
       "<tr>\n",
       "  <th>MONTH</th>     <td>    0.4449</td> <td>    0.109</td> <td>    4.067</td> <td> 0.000</td> <td>    0.230</td> <td>    0.659</td>\n",
       "</tr>\n",
       "</table>\n",
       "<table class=\"simpletable\">\n",
       "<tr>\n",
       "  <th>Omnibus:</th>       <td>1153.951</td> <th>  Durbin-Watson:     </th> <td>   0.533</td>\n",
       "</tr>\n",
       "<tr>\n",
       "  <th>Prob(Omnibus):</th>  <td> 0.000</td>  <th>  Jarque-Bera (JB):  </th> <td>5313.096</td>\n",
       "</tr>\n",
       "<tr>\n",
       "  <th>Skew:</th>           <td> 1.942</td>  <th>  Prob(JB):          </th> <td>    0.00</td>\n",
       "</tr>\n",
       "<tr>\n",
       "  <th>Kurtosis:</th>       <td> 8.472</td>  <th>  Cond. No.          </th> <td>5.52e+04</td>\n",
       "</tr>\n",
       "</table><br/><br/>Notes:<br/>[1] Standard Errors assume that the covariance matrix of the errors is correctly specified.<br/>[2] The condition number is large, 5.52e+04. This might indicate that there are<br/>strong multicollinearity or other numerical problems."
      ],
      "text/plain": [
       "<class 'statsmodels.iolib.summary.Summary'>\n",
       "\"\"\"\n",
       "                            OLS Regression Results                            \n",
       "==============================================================================\n",
       "Dep. Variable:                    AQI   R-squared:                       0.165\n",
       "Model:                            OLS   Adj. R-squared:                  0.164\n",
       "Method:                 Least Squares   F-statistic:                     93.28\n",
       "Date:                Tue, 27 Jul 2021   Prob (F-statistic):          3.62e-107\n",
       "Time:                        07:15:12   Log-Likelihood:                -12422.\n",
       "No. Observations:                2832   AIC:                         2.486e+04\n",
       "Df Residuals:                    2825   BIC:                         2.490e+04\n",
       "Df Model:                           6                                         \n",
       "Covariance Type:            nonrobust                                         \n",
       "==============================================================================\n",
       "                 coef    std err          t      P>|t|      [0.025      0.975]\n",
       "------------------------------------------------------------------------------\n",
       "Intercept     51.7387      2.814     18.389      0.000      46.222      57.256\n",
       "WND           -0.4808      0.027    -17.974      0.000      -0.533      -0.428\n",
       "PRCP          -0.0744      0.012     -6.223      0.000      -0.098      -0.051\n",
       "TMP           -0.0123      0.004     -3.198      0.001      -0.020      -0.005\n",
       "TRAF           0.0001      0.000      0.334      0.738      -0.000       0.001\n",
       "MANU          -0.0059      0.001     -4.221      0.000      -0.009      -0.003\n",
       "MONTH          0.4449      0.109      4.067      0.000       0.230       0.659\n",
       "==============================================================================\n",
       "Omnibus:                     1153.951   Durbin-Watson:                   0.533\n",
       "Prob(Omnibus):                  0.000   Jarque-Bera (JB):             5313.096\n",
       "Skew:                           1.942   Prob(JB):                         0.00\n",
       "Kurtosis:                       8.472   Cond. No.                     5.52e+04\n",
       "==============================================================================\n",
       "\n",
       "Notes:\n",
       "[1] Standard Errors assume that the covariance matrix of the errors is correctly specified.\n",
       "[2] The condition number is large, 5.52e+04. This might indicate that there are\n",
       "strong multicollinearity or other numerical problems.\n",
       "\"\"\""
      ]
     },
     "metadata": {},
     "output_type": "display_data"
    }
   ],
   "source": [
    "# Fit linear regression\n",
    "fit_lin = sm1.ols(formula=f, data=df).fit()\n",
    "display(fit_lin.summary()) # Multicolinearity issue"
   ]
  },
  {
   "cell_type": "code",
   "execution_count": 68,
   "id": "93216a16",
   "metadata": {},
   "outputs": [
    {
     "name": "stdout",
     "output_type": "stream",
     "text": [
      "Warning: Maximum number of iterations has been exceeded.\n",
      "         Current function value: 0.046097\n",
      "         Iterations: 35\n"
     ]
    },
    {
     "name": "stderr",
     "output_type": "stream",
     "text": [
      "/home/blakejhamm/.conda/envs/airq_eda/lib/python3.9/site-packages/statsmodels/base/model.py:566: ConvergenceWarning: Maximum Likelihood optimization failed to converge. Check mle_retvals\n",
      "  warnings.warn(\"Maximum Likelihood optimization failed to \"\n"
     ]
    },
    {
     "data": {
      "text/html": [
       "<table class=\"simpletable\">\n",
       "<caption>Logit Regression Results</caption>\n",
       "<tr>\n",
       "  <th>Dep. Variable:</th>        <td>HEALTHY</td>     <th>  No. Observations:  </th>  <td>  2832</td>  \n",
       "</tr>\n",
       "<tr>\n",
       "  <th>Model:</th>                 <td>Logit</td>      <th>  Df Residuals:      </th>  <td>  2816</td>  \n",
       "</tr>\n",
       "<tr>\n",
       "  <th>Method:</th>                 <td>MLE</td>       <th>  Df Model:          </th>  <td>    15</td>  \n",
       "</tr>\n",
       "<tr>\n",
       "  <th>Date:</th>            <td>Tue, 27 Jul 2021</td> <th>  Pseudo R-squ.:     </th>  <td>0.4807</td>  \n",
       "</tr>\n",
       "<tr>\n",
       "  <th>Time:</th>                <td>07:15:15</td>     <th>  Log-Likelihood:    </th> <td> -130.55</td> \n",
       "</tr>\n",
       "<tr>\n",
       "  <th>converged:</th>             <td>False</td>      <th>  LL-Null:           </th> <td> -251.39</td> \n",
       "</tr>\n",
       "<tr>\n",
       "  <th>Covariance Type:</th>     <td>nonrobust</td>    <th>  LLR p-value:       </th> <td>6.364e-43</td>\n",
       "</tr>\n",
       "</table>\n",
       "<table class=\"simpletable\">\n",
       "<tr>\n",
       "     <td></td>        <th>coef</th>     <th>std err</th>      <th>z</th>      <th>P>|z|</th>  <th>[0.025</th>    <th>0.975]</th>  \n",
       "</tr>\n",
       "<tr>\n",
       "  <th>WND</th>     <td>    0.2253</td> <td>    0.035</td> <td>    6.495</td> <td> 0.000</td> <td>    0.157</td> <td>    0.293</td>\n",
       "</tr>\n",
       "<tr>\n",
       "  <th>PRCP</th>    <td>   -0.0051</td> <td>    0.012</td> <td>   -0.415</td> <td> 0.678</td> <td>   -0.029</td> <td>    0.019</td>\n",
       "</tr>\n",
       "<tr>\n",
       "  <th>TMP</th>     <td>    0.0161</td> <td>    0.004</td> <td>    3.758</td> <td> 0.000</td> <td>    0.008</td> <td>    0.025</td>\n",
       "</tr>\n",
       "<tr>\n",
       "  <th>TRAF</th>    <td>  -7.1e-05</td> <td>    0.000</td> <td>   -0.708</td> <td> 0.479</td> <td>   -0.000</td> <td>    0.000</td>\n",
       "</tr>\n",
       "<tr>\n",
       "  <th>MANU</th>    <td>   -0.0005</td> <td>    0.001</td> <td>   -0.814</td> <td> 0.416</td> <td>   -0.002</td> <td>    0.001</td>\n",
       "</tr>\n",
       "<tr>\n",
       "  <th>MONTH1</th>  <td>   -0.7560</td> <td>    0.383</td> <td>   -1.974</td> <td> 0.048</td> <td>   -1.507</td> <td>   -0.005</td>\n",
       "</tr>\n",
       "<tr>\n",
       "  <th>MONTH2</th>  <td>   -1.7643</td> <td>    0.542</td> <td>   -3.256</td> <td> 0.001</td> <td>   -2.826</td> <td>   -0.702</td>\n",
       "</tr>\n",
       "<tr>\n",
       "  <th>MONTH3</th>  <td>   17.3774</td> <td> 6655.765</td> <td>    0.003</td> <td> 0.998</td> <td> -1.3e+04</td> <td> 1.31e+04</td>\n",
       "</tr>\n",
       "<tr>\n",
       "  <th>MONTH4</th>  <td>   14.4157</td> <td> 2782.217</td> <td>    0.005</td> <td> 0.996</td> <td>-5438.630</td> <td> 5467.461</td>\n",
       "</tr>\n",
       "<tr>\n",
       "  <th>MONTH5</th>  <td>   20.5173</td> <td> 8.01e+04</td> <td>    0.000</td> <td> 1.000</td> <td>-1.57e+05</td> <td> 1.57e+05</td>\n",
       "</tr>\n",
       "<tr>\n",
       "  <th>MONTH6</th>  <td>   16.0399</td> <td> 1.94e+04</td> <td>    0.001</td> <td> 0.999</td> <td> -3.8e+04</td> <td>  3.8e+04</td>\n",
       "</tr>\n",
       "<tr>\n",
       "  <th>MONTH7</th>  <td>   14.2307</td> <td> 1.15e+04</td> <td>    0.001</td> <td> 0.999</td> <td>-2.25e+04</td> <td> 2.25e+04</td>\n",
       "</tr>\n",
       "<tr>\n",
       "  <th>MONTH8</th>  <td>   -5.0158</td> <td>    1.497</td> <td>   -3.351</td> <td> 0.001</td> <td>   -7.950</td> <td>   -2.082</td>\n",
       "</tr>\n",
       "<tr>\n",
       "  <th>MONTH9</th>  <td>   -2.5524</td> <td>    1.381</td> <td>   -1.848</td> <td> 0.065</td> <td>   -5.260</td> <td>    0.155</td>\n",
       "</tr>\n",
       "<tr>\n",
       "  <th>MONTH10</th> <td>   14.6272</td> <td> 1813.381</td> <td>    0.008</td> <td> 0.994</td> <td>-3539.534</td> <td> 3568.788</td>\n",
       "</tr>\n",
       "<tr>\n",
       "  <th>MONTH11</th> <td>   19.4629</td> <td> 8743.761</td> <td>    0.002</td> <td> 0.998</td> <td>-1.71e+04</td> <td> 1.72e+04</td>\n",
       "</tr>\n",
       "</table><br/><br/>Possibly complete quasi-separation: A fraction 0.66 of observations can be<br/>perfectly predicted. This might indicate that there is complete<br/>quasi-separation. In this case some parameters will not be identified."
      ],
      "text/plain": [
       "<class 'statsmodels.iolib.summary.Summary'>\n",
       "\"\"\"\n",
       "                           Logit Regression Results                           \n",
       "==============================================================================\n",
       "Dep. Variable:                HEALTHY   No. Observations:                 2832\n",
       "Model:                          Logit   Df Residuals:                     2816\n",
       "Method:                           MLE   Df Model:                           15\n",
       "Date:                Tue, 27 Jul 2021   Pseudo R-squ.:                  0.4807\n",
       "Time:                        07:15:15   Log-Likelihood:                -130.55\n",
       "converged:                      False   LL-Null:                       -251.39\n",
       "Covariance Type:            nonrobust   LLR p-value:                 6.364e-43\n",
       "==============================================================================\n",
       "                 coef    std err          z      P>|z|      [0.025      0.975]\n",
       "------------------------------------------------------------------------------\n",
       "WND            0.2253      0.035      6.495      0.000       0.157       0.293\n",
       "PRCP          -0.0051      0.012     -0.415      0.678      -0.029       0.019\n",
       "TMP            0.0161      0.004      3.758      0.000       0.008       0.025\n",
       "TRAF         -7.1e-05      0.000     -0.708      0.479      -0.000       0.000\n",
       "MANU          -0.0005      0.001     -0.814      0.416      -0.002       0.001\n",
       "MONTH1        -0.7560      0.383     -1.974      0.048      -1.507      -0.005\n",
       "MONTH2        -1.7643      0.542     -3.256      0.001      -2.826      -0.702\n",
       "MONTH3        17.3774   6655.765      0.003      0.998    -1.3e+04    1.31e+04\n",
       "MONTH4        14.4157   2782.217      0.005      0.996   -5438.630    5467.461\n",
       "MONTH5        20.5173   8.01e+04      0.000      1.000   -1.57e+05    1.57e+05\n",
       "MONTH6        16.0399   1.94e+04      0.001      0.999    -3.8e+04     3.8e+04\n",
       "MONTH7        14.2307   1.15e+04      0.001      0.999   -2.25e+04    2.25e+04\n",
       "MONTH8        -5.0158      1.497     -3.351      0.001      -7.950      -2.082\n",
       "MONTH9        -2.5524      1.381     -1.848      0.065      -5.260       0.155\n",
       "MONTH10       14.6272   1813.381      0.008      0.994   -3539.534    3568.788\n",
       "MONTH11       19.4629   8743.761      0.002      0.998   -1.71e+04    1.72e+04\n",
       "==============================================================================\n",
       "\n",
       "Possibly complete quasi-separation: A fraction 0.66 of observations can be\n",
       "perfectly predicted. This might indicate that there is complete\n",
       "quasi-separation. In this case some parameters will not be identified.\n",
       "\"\"\""
      ]
     },
     "metadata": {},
     "output_type": "display_data"
    }
   ],
   "source": [
    "# Fit logistic regression\n",
    "fit_log = sm2.Logit(y2, X).fit()\n",
    "display(fit_log.summary()) # Multicolinearity issue"
   ]
  },
  {
   "cell_type": "code",
   "execution_count": 69,
   "id": "95c40d3d",
   "metadata": {},
   "outputs": [
    {
     "name": "stdout",
     "output_type": "stream",
     "text": [
      "Model score (R-squared): 0.32\n",
      "[-4.0300e-01 -6.4000e-02  1.2000e-02  1.0000e-03 -1.0000e-03  6.6580e+00\n",
      " -1.4876e+01 -2.3805e+01 -2.3122e+01 -2.3627e+01 -1.8711e+01 -1.1900e+01\n",
      " -9.1270e+00 -1.3946e+01 -2.0144e+01 -1.2529e+01]\n"
     ]
    }
   ],
   "source": [
    "# Fit Bayesian Ridge Regression\n",
    "reg = linear_model.BayesianRidge()\n",
    "fit_bays = reg.fit(X, y1)\n",
    "score = fit_bays.score(X, y1)\n",
    "print(\"Model score (R-squared): %.2f\" % score)\n",
    "print(fit_bays.coef_.round(3)) # Similar coefficients to linear model"
   ]
  },
  {
   "cell_type": "code",
   "execution_count": 70,
   "id": "7beb786d",
   "metadata": {},
   "outputs": [
    {
     "name": "stdout",
     "output_type": "stream",
     "text": [
      "Model score (R-squared): 0.42\n",
      "[0.701 0.    0.299 0.    0.    0.    0.    0.    0.    0.    0.    0.\n",
      " 0.    0.    0.    0.   ]\n"
     ]
    }
   ],
   "source": [
    "# Fit random forest regression\n",
    "regr = RandomForestRegressor(max_depth=2, random_state=0)\n",
    "fit_for = regr.fit(X, y1)\n",
    "score = fit_for.score(X, y1)\n",
    "print(\"Model score (R-squared): %.2f\" % score)\n",
    "print(fit_for.feature_importances_.round(3)) # Only two relevant features..."
   ]
  },
  {
   "cell_type": "code",
   "execution_count": 77,
   "id": "08e5884e",
   "metadata": {},
   "outputs": [
    {
     "name": "stdout",
     "output_type": "stream",
     "text": [
      "Model score (R-squared): 0.32\n"
     ]
    }
   ],
   "source": [
    "# Try PCR because multicolinearity\n",
    "pcr = make_pipeline(StandardScaler(), PCA(), linear_model.LinearRegression())\n",
    "fit_pcr = pcr.fit(X, y1)\n",
    "pca = pcr.named_steps['pca']  # retrieve the PCA step of the pipeline\n",
    "score = fit_pcr.score(X, y1)\n",
    "print(\"Model score (R-squared): %.2f\" % score)\n",
    "#print(fit_pcr.coef_.round(3)) # Only two relevant features..."
   ]
  }
 ],
 "metadata": {
  "kernelspec": {
   "display_name": "Python (airq_eda)",
   "language": "python",
   "name": "airq_eda"
  },
  "language_info": {
   "codemirror_mode": {
    "name": "ipython",
    "version": 3
   },
   "file_extension": ".py",
   "mimetype": "text/x-python",
   "name": "python",
   "nbconvert_exporter": "python",
   "pygments_lexer": "ipython3",
   "version": "3.9.5"
  }
 },
 "nbformat": 4,
 "nbformat_minor": 5
}
